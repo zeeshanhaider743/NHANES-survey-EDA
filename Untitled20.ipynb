{
 "cells": [
  {
   "cell_type": "code",
   "execution_count": 61,
   "id": "45afbdaa-0715-4589-96be-3529fc00aa94",
   "metadata": {},
   "outputs": [],
   "source": [
    "%matplotlib inline\n",
    "import matplotlib.pyplot as plt\n",
    "import seaborn as sns\n",
    "import pandas as pd\n",
    "import numpy as np\n",
    "import plotly.express as px\n",
    "plt.style.use('seaborn-deep')\n"
   ]
  },
  {
   "cell_type": "code",
   "execution_count": 62,
   "id": "54096ca8-f904-462a-a3c3-5c4454d728d5",
   "metadata": {},
   "outputs": [],
   "source": [
    "da = pd.read_csv('NHANES.csv')"
   ]
  },
  {
   "cell_type": "markdown",
   "id": "4d3ab707-8f34-402c-9144-0ac53dcb4cd8",
   "metadata": {},
   "source": [
    "### Relabling DMDMARTL as Marital Status and RIAGENDR as Gender"
   ]
  },
  {
   "cell_type": "code",
   "execution_count": 63,
   "id": "fbb93266-3d66-4fc6-90a4-9eb124d4c9e1",
   "metadata": {},
   "outputs": [],
   "source": [
    "da['Marital Status'] = da['DMDMARTL'].replace({1:'Married', 2:'Widowed',3:'Divorced',4:'Seperated', 5:'Never Married', 6: 'Living with Partner', 77: 'Refused',99:'Dont know'})"
   ]
  },
  {
   "cell_type": "code",
   "execution_count": 64,
   "id": "8941e81d-c450-43d5-8816-f7098f6b67f6",
   "metadata": {},
   "outputs": [],
   "source": [
    "da[\"Gender\"] = da.RIAGENDR.replace({1: \"Male\", 2: \"Female\"})"
   ]
  },
  {
   "cell_type": "markdown",
   "id": "3a14ce2e-20df-4a96-ac8b-853f2ce3721f",
   "metadata": {},
   "source": [
    "### Finding and Replacing NaN with Missing"
   ]
  },
  {
   "cell_type": "code",
   "execution_count": 65,
   "id": "5a7ab00e-8f21-4d84-a218-5902b71e04f7",
   "metadata": {},
   "outputs": [
    {
     "data": {
      "text/plain": [
       "261"
      ]
     },
     "execution_count": 65,
     "metadata": {},
     "output_type": "execute_result"
    }
   ],
   "source": [
    "pd.isnull(da['Marital Status']).sum()"
   ]
  },
  {
   "cell_type": "code",
   "execution_count": 66,
   "id": "99e68a83-fbeb-416d-bc40-082d609478bd",
   "metadata": {},
   "outputs": [],
   "source": [
    "da['Marital Status'].fillna('Missing', inplace = True)"
   ]
  },
  {
   "cell_type": "code",
   "execution_count": 256,
   "id": "072c202a-c89d-4fd9-b1f2-7ba2beb25aad",
   "metadata": {},
   "outputs": [
    {
     "data": {
      "text/html": [
       "<div>\n",
       "<style scoped>\n",
       "    .dataframe tbody tr th:only-of-type {\n",
       "        vertical-align: middle;\n",
       "    }\n",
       "\n",
       "    .dataframe tbody tr th {\n",
       "        vertical-align: top;\n",
       "    }\n",
       "\n",
       "    .dataframe thead th {\n",
       "        text-align: right;\n",
       "    }\n",
       "</style>\n",
       "<table border=\"1\" class=\"dataframe\">\n",
       "  <thead>\n",
       "    <tr style=\"text-align: right;\">\n",
       "      <th></th>\n",
       "      <th>SEQN</th>\n",
       "      <th>ALQ101</th>\n",
       "      <th>ALQ110</th>\n",
       "      <th>ALQ130</th>\n",
       "      <th>SMQ020</th>\n",
       "      <th>RIAGENDR</th>\n",
       "      <th>RIDAGEYR</th>\n",
       "      <th>RIDRETH1</th>\n",
       "      <th>DMDCITZN</th>\n",
       "      <th>DMDEDUC2</th>\n",
       "      <th>...</th>\n",
       "      <th>BMXARMC</th>\n",
       "      <th>BMXWAIST</th>\n",
       "      <th>HIQ210</th>\n",
       "      <th>Marital Status</th>\n",
       "      <th>Gender</th>\n",
       "      <th>agegrp</th>\n",
       "      <th>newagegrp</th>\n",
       "      <th>Education</th>\n",
       "      <th>difference</th>\n",
       "      <th>prop</th>\n",
       "    </tr>\n",
       "  </thead>\n",
       "  <tbody>\n",
       "    <tr>\n",
       "      <th>0</th>\n",
       "      <td>83732</td>\n",
       "      <td>1.0</td>\n",
       "      <td>NaN</td>\n",
       "      <td>1.0</td>\n",
       "      <td>1</td>\n",
       "      <td>1</td>\n",
       "      <td>62</td>\n",
       "      <td>3</td>\n",
       "      <td>1.0</td>\n",
       "      <td>5.0</td>\n",
       "      <td>...</td>\n",
       "      <td>35.9</td>\n",
       "      <td>101.1</td>\n",
       "      <td>2.0</td>\n",
       "      <td>Married</td>\n",
       "      <td>Male</td>\n",
       "      <td>NaN</td>\n",
       "      <td>(61.4, 67.6]</td>\n",
       "      <td>College</td>\n",
       "      <td>4.0</td>\n",
       "      <td>&lt;bound method IndexOpsMixin.value_counts of 0 ...</td>\n",
       "    </tr>\n",
       "    <tr>\n",
       "      <th>1</th>\n",
       "      <td>83733</td>\n",
       "      <td>1.0</td>\n",
       "      <td>NaN</td>\n",
       "      <td>6.0</td>\n",
       "      <td>1</td>\n",
       "      <td>1</td>\n",
       "      <td>53</td>\n",
       "      <td>3</td>\n",
       "      <td>2.0</td>\n",
       "      <td>3.0</td>\n",
       "      <td>...</td>\n",
       "      <td>33.2</td>\n",
       "      <td>107.9</td>\n",
       "      <td>NaN</td>\n",
       "      <td>Divorced</td>\n",
       "      <td>Male</td>\n",
       "      <td>NaN</td>\n",
       "      <td>(49.0, 55.2]</td>\n",
       "      <td>HS/GED</td>\n",
       "      <td>6.0</td>\n",
       "      <td>&lt;bound method IndexOpsMixin.value_counts of 0 ...</td>\n",
       "    </tr>\n",
       "    <tr>\n",
       "      <th>2</th>\n",
       "      <td>83734</td>\n",
       "      <td>1.0</td>\n",
       "      <td>NaN</td>\n",
       "      <td>NaN</td>\n",
       "      <td>1</td>\n",
       "      <td>1</td>\n",
       "      <td>78</td>\n",
       "      <td>3</td>\n",
       "      <td>1.0</td>\n",
       "      <td>3.0</td>\n",
       "      <td>...</td>\n",
       "      <td>31.0</td>\n",
       "      <td>116.5</td>\n",
       "      <td>2.0</td>\n",
       "      <td>Married</td>\n",
       "      <td>Male</td>\n",
       "      <td>NaN</td>\n",
       "      <td>(73.8, 80.0]</td>\n",
       "      <td>HS/GED</td>\n",
       "      <td>6.0</td>\n",
       "      <td>&lt;bound method IndexOpsMixin.value_counts of 0 ...</td>\n",
       "    </tr>\n",
       "    <tr>\n",
       "      <th>3</th>\n",
       "      <td>83735</td>\n",
       "      <td>2.0</td>\n",
       "      <td>1.0</td>\n",
       "      <td>1.0</td>\n",
       "      <td>2</td>\n",
       "      <td>2</td>\n",
       "      <td>56</td>\n",
       "      <td>3</td>\n",
       "      <td>1.0</td>\n",
       "      <td>5.0</td>\n",
       "      <td>...</td>\n",
       "      <td>38.3</td>\n",
       "      <td>110.1</td>\n",
       "      <td>2.0</td>\n",
       "      <td>Living with Partner</td>\n",
       "      <td>Female</td>\n",
       "      <td>NaN</td>\n",
       "      <td>(55.2, 61.4]</td>\n",
       "      <td>College</td>\n",
       "      <td>-2.0</td>\n",
       "      <td>&lt;bound method IndexOpsMixin.value_counts of 0 ...</td>\n",
       "    </tr>\n",
       "    <tr>\n",
       "      <th>4</th>\n",
       "      <td>83736</td>\n",
       "      <td>2.0</td>\n",
       "      <td>1.0</td>\n",
       "      <td>1.0</td>\n",
       "      <td>2</td>\n",
       "      <td>2</td>\n",
       "      <td>42</td>\n",
       "      <td>4</td>\n",
       "      <td>1.0</td>\n",
       "      <td>4.0</td>\n",
       "      <td>...</td>\n",
       "      <td>27.2</td>\n",
       "      <td>80.4</td>\n",
       "      <td>2.0</td>\n",
       "      <td>Divorced</td>\n",
       "      <td>Female</td>\n",
       "      <td>NaN</td>\n",
       "      <td>(36.6, 42.8]</td>\n",
       "      <td>Some college/AA</td>\n",
       "      <td>-14.0</td>\n",
       "      <td>&lt;bound method IndexOpsMixin.value_counts of 0 ...</td>\n",
       "    </tr>\n",
       "  </tbody>\n",
       "</table>\n",
       "<p>5 rows × 35 columns</p>\n",
       "</div>"
      ],
      "text/plain": [
       "    SEQN  ALQ101  ALQ110  ALQ130  SMQ020  RIAGENDR  RIDAGEYR  RIDRETH1  \\\n",
       "0  83732     1.0     NaN     1.0       1         1        62         3   \n",
       "1  83733     1.0     NaN     6.0       1         1        53         3   \n",
       "2  83734     1.0     NaN     NaN       1         1        78         3   \n",
       "3  83735     2.0     1.0     1.0       2         2        56         3   \n",
       "4  83736     2.0     1.0     1.0       2         2        42         4   \n",
       "\n",
       "   DMDCITZN  DMDEDUC2  ...  BMXARMC  BMXWAIST  HIQ210       Marital Status  \\\n",
       "0       1.0       5.0  ...     35.9     101.1     2.0              Married   \n",
       "1       2.0       3.0  ...     33.2     107.9     NaN             Divorced   \n",
       "2       1.0       3.0  ...     31.0     116.5     2.0              Married   \n",
       "3       1.0       5.0  ...     38.3     110.1     2.0  Living with Partner   \n",
       "4       1.0       4.0  ...     27.2      80.4     2.0             Divorced   \n",
       "\n",
       "   Gender  agegrp     newagegrp        Education  difference  \\\n",
       "0    Male     NaN  (61.4, 67.6]          College         4.0   \n",
       "1    Male     NaN  (49.0, 55.2]           HS/GED         6.0   \n",
       "2    Male     NaN  (73.8, 80.0]           HS/GED         6.0   \n",
       "3  Female     NaN  (55.2, 61.4]          College        -2.0   \n",
       "4  Female     NaN  (36.6, 42.8]  Some college/AA       -14.0   \n",
       "\n",
       "                                                prop  \n",
       "0  <bound method IndexOpsMixin.value_counts of 0 ...  \n",
       "1  <bound method IndexOpsMixin.value_counts of 0 ...  \n",
       "2  <bound method IndexOpsMixin.value_counts of 0 ...  \n",
       "3  <bound method IndexOpsMixin.value_counts of 0 ...  \n",
       "4  <bound method IndexOpsMixin.value_counts of 0 ...  \n",
       "\n",
       "[5 rows x 35 columns]"
      ]
     },
     "execution_count": 256,
     "metadata": {},
     "output_type": "execute_result"
    }
   ],
   "source": [
    "da.head()"
   ]
  },
  {
   "cell_type": "markdown",
   "id": "653b2985-d75f-4200-82b3-93f78db34668",
   "metadata": {},
   "source": [
    "### Marital Status Frequency Table for all population"
   ]
  },
  {
   "cell_type": "code",
   "execution_count": 68,
   "id": "d5e376b6-bc80-4195-aed2-eca6c6423af0",
   "metadata": {},
   "outputs": [
    {
     "data": {
      "text/plain": [
       "Married                2780\n",
       "Never Married          1004\n",
       "Divorced                579\n",
       "Living with Partner     527\n",
       "Widowed                 396\n",
       "Missing                 261\n",
       "Seperated               186\n",
       "Refused                   2\n",
       "Name: Marital Status, dtype: int64"
      ]
     },
     "execution_count": 68,
     "metadata": {},
     "output_type": "execute_result"
    }
   ],
   "source": [
    "da['Marital Status'].value_counts()"
   ]
  },
  {
   "cell_type": "markdown",
   "id": "08a3db67-49e4-44b3-bbc1-eca1e8505475",
   "metadata": {},
   "source": [
    "### Marital Status Frequency Table for Females"
   ]
  },
  {
   "cell_type": "code",
   "execution_count": 69,
   "id": "8ce9830c-ca8b-4a25-b8e8-8749a6b9b838",
   "metadata": {},
   "outputs": [
    {
     "data": {
      "text/plain": [
       "Married                1303\n",
       "Never Married           520\n",
       "Divorced                350\n",
       "Widowed                 296\n",
       "Living with Partner     262\n",
       "Missing                 126\n",
       "Seperated               118\n",
       "Refused                   1\n",
       "Name: Marital Status, dtype: int64"
      ]
     },
     "execution_count": 69,
     "metadata": {},
     "output_type": "execute_result"
    }
   ],
   "source": [
    "da[da['Gender'] == 'Female']['Marital Status'].value_counts()"
   ]
  },
  {
   "cell_type": "markdown",
   "id": "1be81a9d-681e-478f-bc72-d76bbc611a09",
   "metadata": {},
   "source": [
    "### Marital Status Frequency Table for Males"
   ]
  },
  {
   "cell_type": "code",
   "execution_count": 70,
   "id": "e8bf5701-c0a8-4d97-ab93-42217f8e3e7e",
   "metadata": {},
   "outputs": [
    {
     "data": {
      "text/plain": [
       "Married                1477\n",
       "Never Married           484\n",
       "Living with Partner     265\n",
       "Divorced                229\n",
       "Missing                 135\n",
       "Widowed                 100\n",
       "Seperated                68\n",
       "Refused                   1\n",
       "Name: Marital Status, dtype: int64"
      ]
     },
     "execution_count": 70,
     "metadata": {},
     "output_type": "execute_result"
    }
   ],
   "source": [
    "da[da['Gender'] == 'Male']['Marital Status'].value_counts()"
   ]
  },
  {
   "cell_type": "code",
   "execution_count": 71,
   "id": "c9c4389b-6919-440c-8caf-52835933d425",
   "metadata": {},
   "outputs": [],
   "source": [
    "da['agegrp'] = pd.cut(da.RIDAGEYR, [30, 40])"
   ]
  },
  {
   "cell_type": "markdown",
   "id": "74c93f7d-32b4-493b-a5d9-d2aaa5c14d80",
   "metadata": {},
   "source": [
    "### Marital Status Frequency Table for all population under 40 and above 30"
   ]
  },
  {
   "cell_type": "code",
   "execution_count": 72,
   "id": "4e34775e-f56d-4d04-b96c-0e4a61a866e5",
   "metadata": {},
   "outputs": [
    {
     "data": {
      "text/plain": [
       "agegrp    Marital Status     \n",
       "(30, 40]  Married                516\n",
       "          Never Married          186\n",
       "          Living with Partner    129\n",
       "          Divorced                67\n",
       "          Seperated               29\n",
       "          Widowed                  4\n",
       "          Refused                  1\n",
       "Name: Marital Status, dtype: int64"
      ]
     },
     "execution_count": 72,
     "metadata": {},
     "output_type": "execute_result"
    }
   ],
   "source": [
    "da.groupby(['agegrp'])['Marital Status'].value_counts()"
   ]
  },
  {
   "cell_type": "code",
   "execution_count": null,
   "id": "a901a57e-839a-4345-a412-7aa440859fe0",
   "metadata": {},
   "outputs": [],
   "source": []
  },
  {
   "cell_type": "markdown",
   "id": "62fc20fa-efc4-456b-892e-48bd9e7129ba",
   "metadata": {},
   "source": [
    "### Marital Status Frequency Table for Females under 40 and above 30"
   ]
  },
  {
   "cell_type": "code",
   "execution_count": 73,
   "id": "87da84c8-0a5e-4d8b-95f2-3b19f5a7b3ef",
   "metadata": {},
   "outputs": [
    {
     "data": {
      "text/plain": [
       "agegrp    Marital Status     \n",
       "(30, 40]  Married                258\n",
       "          Never Married           97\n",
       "          Living with Partner     57\n",
       "          Divorced                43\n",
       "          Seperated               17\n",
       "          Widowed                  2\n",
       "Name: Marital Status, dtype: int64"
      ]
     },
     "execution_count": 73,
     "metadata": {},
     "output_type": "execute_result"
    }
   ],
   "source": [
    "da[da['Gender'] == 'Female'].groupby('agegrp')['Marital Status'].value_counts()"
   ]
  },
  {
   "cell_type": "markdown",
   "id": "c932858f-9a4e-40e4-a086-0bf32026b343",
   "metadata": {},
   "source": [
    "### Marital Status Frequency Table for Males under 40 and above 30"
   ]
  },
  {
   "cell_type": "code",
   "execution_count": 74,
   "id": "a7c3ce8c-38d3-4285-a51b-63c8d0dae8c6",
   "metadata": {},
   "outputs": [
    {
     "data": {
      "text/plain": [
       "agegrp    Marital Status     \n",
       "(30, 40]  Married                258\n",
       "          Never Married           89\n",
       "          Living with Partner     72\n",
       "          Divorced                24\n",
       "          Seperated               12\n",
       "          Widowed                  2\n",
       "          Refused                  1\n",
       "Name: Marital Status, dtype: int64"
      ]
     },
     "execution_count": 74,
     "metadata": {},
     "output_type": "execute_result"
    }
   ],
   "source": [
    "da[da['Gender'] == 'Male'].groupby('agegrp')['Marital Status'].value_counts()"
   ]
  },
  {
   "cell_type": "code",
   "execution_count": 128,
   "id": "46cce1d9-4ae7-4ad6-bb89-593304576144",
   "metadata": {},
   "outputs": [
    {
     "data": {
      "text/plain": [
       "<AxesSubplot:title={'center':'Marital Status distribution by Gender'}, xlabel='Gender', ylabel='Number of People'>"
      ]
     },
     "execution_count": 128,
     "metadata": {},
     "output_type": "execute_result"
    },
    {
     "data": {
      "image/png": "[encoded data removed]",
      "text/plain": [
       "<Figure size 864x432 with 1 Axes>"
      ]
     },
     "metadata": {
      "needs_background": "light"
     },
     "output_type": "display_data"
    }
   ],
   "source": [
    "da.groupby('Gender')['Marital Status'].value_counts().unstack().plot(kind = 'bar', figsize = (12,6), title ='Marital Status distribution by Gender', ylabel ='Number of People', fontsize =15)"
   ]
  },
  {
   "cell_type": "markdown",
   "id": "ef1a6c83-fa9a-4857-96f6-6bc880035740",
   "metadata": {},
   "source": [
    "### The biggest difference observed is in the category \"Widowed\". Females were widowed almost three times as men."
   ]
  },
  {
   "cell_type": "code",
   "execution_count": 130,
   "id": "f9c8fcfd-5184-4484-af1f-d01eadcb8347",
   "metadata": {},
   "outputs": [
    {
     "data": {
      "text/plain": [
       "<AxesSubplot:title={'center':'Marital Status distribution for Females between 30 and 40'}, xlabel='agegrp', ylabel='Number of People'>"
      ]
     },
     "execution_count": 130,
     "metadata": {},
     "output_type": "execute_result"
    },
    {
     "data": {
      "image/png": "[encoded data removed]",
      "text/plain": [
       "<Figure size 864x432 with 1 Axes>"
      ]
     },
     "metadata": {
      "needs_background": "light"
     },
     "output_type": "display_data"
    }
   ],
   "source": [
    "da[da['Gender'] == 'Female'].groupby('agegrp')['Marital Status'].value_counts().unstack().plot(kind = 'bar', figsize = (12,6), title ='Marital Status distribution for Females between 30 and 40', ylabel ='Number of People', fontsize =15)"
   ]
  },
  {
   "cell_type": "markdown",
   "id": "31cae223-3647-44e3-9eb4-32a2b9a06e7d",
   "metadata": {},
   "source": [
    "### Divorce, Seperation and Widow values are low as compared to the overall Distribution. The proportion of Never Married is second highest in this distribution but fifth for the overall Population."
   ]
  },
  {
   "cell_type": "code",
   "execution_count": 131,
   "id": "d920f15b-83a8-4715-923e-b289e1f9cc09",
   "metadata": {},
   "outputs": [
    {
     "data": {
      "text/plain": [
       "<AxesSubplot:title={'center':'Marital Status distribution for Males between 30 and 40'}, xlabel='agegrp', ylabel='Number of People'>"
      ]
     },
     "execution_count": 131,
     "metadata": {},
     "output_type": "execute_result"
    },
    {
     "data": {
      "image/png": "[encoded data removed]",
      "text/plain": [
       "<Figure size 864x432 with 1 Axes>"
      ]
     },
     "metadata": {
      "needs_background": "light"
     },
     "output_type": "display_data"
    }
   ],
   "source": [
    "da[da['Gender'] == 'Male'].groupby('agegrp')['Marital Status'].value_counts().unstack().plot(kind = 'bar', figsize = (12,6), title ='Marital Status distribution for Males between 30 and 40', ylabel ='Number of People', fontsize =15)"
   ]
  },
  {
   "cell_type": "markdown",
   "id": "fafb7b99-52e9-4181-a4cd-4a04ac48f3ee",
   "metadata": {},
   "source": [
    "### Same pattern is observed as in the plot before. Divorced, Seperated and Widowed values are much lower as compared with the overall population"
   ]
  },
  {
   "cell_type": "code",
   "execution_count": null,
   "id": "73e64ba1-072a-463a-9c9e-0d45520877b7",
   "metadata": {},
   "outputs": [],
   "source": []
  },
  {
   "cell_type": "code",
   "execution_count": null,
   "id": "5a7c6912-2247-4797-b678-4ac1ab6d4513",
   "metadata": {},
   "outputs": [],
   "source": []
  },
  {
   "cell_type": "markdown",
   "id": "f6821b06-d626-4cc9-98d6-076615fd7418",
   "metadata": {},
   "source": [
    "### Clustering the Population into age groups six years apart"
   ]
  },
  {
   "cell_type": "code",
   "execution_count": 75,
   "id": "78985a1a-c8d0-47b1-ac2a-fd2a16d75d4f",
   "metadata": {},
   "outputs": [],
   "source": [
    "da['newagegrp'] = pd.cut(da[da['RIDAGEYR']>=18]['RIDAGEYR'],10)"
   ]
  },
  {
   "cell_type": "code",
   "execution_count": 76,
   "id": "6ad9c00e-8362-4aba-8344-82a8ff682e9d",
   "metadata": {},
   "outputs": [
    {
     "data": {
      "text/plain": [
       "0         (61.4, 67.6]\n",
       "1         (49.0, 55.2]\n",
       "2         (73.8, 80.0]\n",
       "3         (55.2, 61.4]\n",
       "4         (36.6, 42.8]\n",
       "             ...      \n",
       "5730      (73.8, 80.0]\n",
       "5731      (24.2, 30.4]\n",
       "5732      (73.8, 80.0]\n",
       "5733      (30.4, 36.6]\n",
       "5734    (17.938, 24.2]\n",
       "Name: newagegrp, Length: 5735, dtype: category\n",
       "Categories (10, interval[float64, right]): [(17.938, 24.2] < (24.2, 30.4] < (30.4, 36.6] < (36.6, 42.8] ... (55.2, 61.4] < (61.4, 67.6] < (67.6, 73.8] < (73.8, 80.0]]"
      ]
     },
     "execution_count": 76,
     "metadata": {},
     "output_type": "execute_result"
    }
   ],
   "source": [
    "da['newagegrp']"
   ]
  },
  {
   "cell_type": "markdown",
   "id": "dc266643-9154-4120-9203-308bec41a6fc",
   "metadata": {},
   "source": [
    "### Now, we plot the Distribution of Marital Status states for Females as a percentage for various age groups"
   ]
  },
  {
   "cell_type": "code",
   "execution_count": 281,
   "id": "5f1f6385-eb82-4d16-b472-e17ec41f159a",
   "metadata": {
    "tags": []
   },
   "outputs": [
    {
     "data": {
      "text/plain": [
       "<AxesSubplot:title={'center':'Marital Status Distribution for Females by Age group as a Percentage'}, xlabel='newagegrp'>"
      ]
     },
     "execution_count": 281,
     "metadata": {},
     "output_type": "execute_result"
    },
    {
     "data": {
      "image/png": "[encoded data removed]",
      "text/plain": [
       "<Figure size 1440x720 with 1 Axes>"
      ]
     },
     "metadata": {
      "needs_background": "light"
     },
     "output_type": "display_data"
    }
   ],
   "source": [
    "(da[da['Gender'] == 'Female'].groupby('newagegrp')['Marital Status'].value_counts(normalize = True)*100).unstack().plot(kind = 'bar', figsize = (20,10), title = 'Marital Status Distribution for Females by Age group as a Percentage', fontsize = 15)"
   ]
  },
  {
   "cell_type": "markdown",
   "id": "0721656d-9555-4473-8cd3-e0abd436975f",
   "metadata": {},
   "source": [
    "### In the plot above, we see that the rates of Marriage increases with Age and remain the largest classification from Age 30 till 74. The rate of Divorce, seperation and Widowed also increase with Age with the latter becoming the highest frequency from 74 till 80.\n",
    "Never Married proportion decreases with increasing age and people are inclined to marriage than living together as their age increases."
   ]
  },
  {
   "cell_type": "markdown",
   "id": "037811c1-52de-4f4f-a60b-3d43174cdaaa",
   "metadata": {},
   "source": [
    "### Now, we plot the Distribution of Marital Status states for Males as a percentage for various age groups"
   ]
  },
  {
   "cell_type": "code",
   "execution_count": 280,
   "id": "e38aa4f6-53b7-48f0-aa3d-feb94a5b43ef",
   "metadata": {},
   "outputs": [
    {
     "data": {
      "text/plain": [
       "<AxesSubplot:title={'center':'Marital Status Distribution for Males by Age group as a Percentage'}, xlabel='newagegrp'>"
      ]
     },
     "execution_count": 280,
     "metadata": {},
     "output_type": "execute_result"
    },
    {
     "data": {
      "image/png": "[encoded data removed]",
      "text/plain": [
       "<Figure size 1440x720 with 1 Axes>"
      ]
     },
     "metadata": {
      "needs_background": "light"
     },
     "output_type": "display_data"
    }
   ],
   "source": [
    "(da[da['Gender'] == 'Male'].groupby('newagegrp')['Marital Status'].value_counts(normalize = True)*100).unstack().plot(kind = 'bar', figsize = (20,10),title = 'Marital Status Distribution for Males by Age group as a Percentage', fontsize = 15)"
   ]
  },
  {
   "cell_type": "markdown",
   "id": "e814ed29-53c0-4d85-82ad-03352cf31847",
   "metadata": {},
   "source": [
    "### Almost similar pattern observed for Males that was for females. Marriage tendency increases with age and remains the greatest classification except from 18-30. Likewise People identifying as never married, their proportion decreases over time. Similar trends are observed for 'Living with Partner'. The rates of Divorce, Seperation and Widowed increase with age.\n",
    "However, the proportion of Widowed is far less as compared to Females."
   ]
  },
  {
   "cell_type": "markdown",
   "id": "90c57550-6f45-4f2b-8867-4e1ef1bade32",
   "metadata": {},
   "source": [
    "### Six Histograms by different number of bins were constructed to see the variation in visualization and to check whether exceedingly increasing or decreasing the number of bins produces a meaningful result "
   ]
  },
  {
   "cell_type": "code",
   "execution_count": 276,
   "id": "5d3e67f5-3058-43b3-b079-b197b609391a",
   "metadata": {},
   "outputs": [
    {
     "data": {
      "text/plain": [
       "<AxesSubplot:ylabel='Frequency'>"
      ]
     },
     "execution_count": 276,
     "metadata": {},
     "output_type": "execute_result"
    },
    {
     "data": {
      "image/png": "[encoded data removed]",
      "text/plain": [
       "<Figure size 432x288 with 1 Axes>"
      ]
     },
     "metadata": {
      "needs_background": "light"
     },
     "output_type": "display_data"
    }
   ],
   "source": [
    "da['BMXHT'].plot.hist(bins = 30)"
   ]
  },
  {
   "cell_type": "markdown",
   "id": "53a79f67-9001-4c3e-aeb4-87a51b806d5c",
   "metadata": {},
   "source": [
    "bins = 30"
   ]
  },
  {
   "cell_type": "code",
   "execution_count": 80,
   "id": "ef9ec0c1-356e-4014-a924-fbe637712ee1",
   "metadata": {},
   "outputs": [
    {
     "data": {
      "text/plain": [
       "<AxesSubplot:ylabel='Frequency'>"
      ]
     },
     "execution_count": 80,
     "metadata": {},
     "output_type": "execute_result"
    },
    {
     "data": {
      "image/png": "[encoded data removed]",
      "text/plain": [
       "<Figure size 432x288 with 1 Axes>"
      ]
     },
     "metadata": {
      "needs_background": "light"
     },
     "output_type": "display_data"
    }
   ],
   "source": [
    "da['BMXHT'].plot.hist(bins = 100)"
   ]
  },
  {
   "cell_type": "markdown",
   "id": "31d8fa85-ac1d-4547-a046-fe56cb3ba5c4",
   "metadata": {},
   "source": [
    "Bins = 100"
   ]
  },
  {
   "cell_type": "code",
   "execution_count": 277,
   "id": "b15d769e-e946-45a5-816b-37fb854ba34c",
   "metadata": {},
   "outputs": [
    {
     "data": {
      "text/plain": [
       "<AxesSubplot:ylabel='Frequency'>"
      ]
     },
     "execution_count": 277,
     "metadata": {},
     "output_type": "execute_result"
    },
    {
     "data": {
      "image/png": "[encoded data removed]",
      "text/plain": [
       "<Figure size 432x288 with 1 Axes>"
      ]
     },
     "metadata": {
      "needs_background": "light"
     },
     "output_type": "display_data"
    }
   ],
   "source": [
    "da['BMXHT'].plot.hist(bins = 500)"
   ]
  },
  {
   "cell_type": "markdown",
   "id": "52add70a-a79a-4525-85ad-9fd53b2d223f",
   "metadata": {},
   "source": [
    "Bins = 500"
   ]
  },
  {
   "cell_type": "code",
   "execution_count": 82,
   "id": "4c5941b1-9aa8-4e70-8e5d-e4532ea064e9",
   "metadata": {},
   "outputs": [
    {
     "data": {
      "text/plain": [
       "<AxesSubplot:ylabel='Frequency'>"
      ]
     },
     "execution_count": 82,
     "metadata": {},
     "output_type": "execute_result"
    },
    {
     "data": {
      "image/png": "[encoded data removed]",
      "text/plain": [
       "<Figure size 432x288 with 1 Axes>"
      ]
     },
     "metadata": {
      "needs_background": "light"
     },
     "output_type": "display_data"
    }
   ],
   "source": [
    "da['BMXHT'].plot.hist(bins = 1000)"
   ]
  },
  {
   "cell_type": "markdown",
   "id": "dd992c08-174f-48f0-b68c-451846819030",
   "metadata": {},
   "source": [
    "Bins = 1000"
   ]
  },
  {
   "cell_type": "code",
   "execution_count": 83,
   "id": "d7a12ff0-90e2-4b8e-b8ad-a5690a9b9c83",
   "metadata": {},
   "outputs": [
    {
     "data": {
      "text/plain": [
       "<AxesSubplot:ylabel='Frequency'>"
      ]
     },
     "execution_count": 83,
     "metadata": {},
     "output_type": "execute_result"
    },
    {
     "data": {
      "image/png": "[encoded data removed]",
      "text/plain": [
       "<Figure size 432x288 with 1 Axes>"
      ]
     },
     "metadata": {
      "needs_background": "light"
     },
     "output_type": "display_data"
    }
   ],
   "source": [
    "da['BMXHT'].plot.hist(bins = 10)"
   ]
  },
  {
   "cell_type": "markdown",
   "id": "82346034-f717-4579-845c-cb48a59d6114",
   "metadata": {},
   "source": [
    "Bins = 10"
   ]
  },
  {
   "cell_type": "code",
   "execution_count": 84,
   "id": "9f0a339e-1ea1-4740-a98c-eb3696fea41b",
   "metadata": {},
   "outputs": [
    {
     "data": {
      "text/plain": [
       "<AxesSubplot:ylabel='Frequency'>"
      ]
     },
     "execution_count": 84,
     "metadata": {},
     "output_type": "execute_result"
    },
    {
     "data": {
      "image/png": "[encoded data removed]",
      "text/plain": [
       "<Figure size 432x288 with 1 Axes>"
      ]
     },
     "metadata": {
      "needs_background": "light"
     },
     "output_type": "display_data"
    }
   ],
   "source": [
    "da['BMXHT'].plot.hist(bins = 5)"
   ]
  },
  {
   "cell_type": "markdown",
   "id": "e9c11792-a2ba-4926-b01d-aa9ac50431be",
   "metadata": {},
   "source": [
    "Bins = 5"
   ]
  },
  {
   "cell_type": "markdown",
   "id": "e21e588b-c3a0-4590-bea0-4f100cccd0a3",
   "metadata": {},
   "source": [
    "### As the bins became exceedingly large the pattern in the data became harder to understand. Conversely, as the bins became exceedingly small, the variability in the data became harder to comprehend. \n",
    "30 bins to a hundred bins produces the best results in our findings for this data."
   ]
  },
  {
   "cell_type": "code",
   "execution_count": null,
   "id": "43936c15-89f0-4d87-b56a-d05ef522cefd",
   "metadata": {},
   "outputs": [],
   "source": []
  },
  {
   "cell_type": "markdown",
   "id": "60fe7d50-caa9-46f9-bf70-d92d22b0cd04",
   "metadata": {},
   "source": [
    "### Height Distribution for Males"
   ]
  },
  {
   "cell_type": "code",
   "execution_count": 85,
   "id": "525791af-3d8a-47ab-927b-7314fa198fc0",
   "metadata": {},
   "outputs": [
    {
     "data": {
      "text/plain": [
       "<AxesSubplot:ylabel='Frequency'>"
      ]
     },
     "execution_count": 85,
     "metadata": {},
     "output_type": "execute_result"
    },
    {
     "data": {
      "image/png": "[encoded data removed]",
      "text/plain": [
       "<Figure size 432x288 with 1 Axes>"
      ]
     },
     "metadata": {
      "needs_background": "light"
     },
     "output_type": "display_data"
    }
   ],
   "source": [
    "da[da['Gender']=='Male']['BMXHT'].plot.hist(bins = 30)"
   ]
  },
  {
   "cell_type": "markdown",
   "id": "9ea4fba7-eb46-4be8-ba3b-84b8f21840ee",
   "metadata": {},
   "source": [
    "### Height Distribution for Females"
   ]
  },
  {
   "cell_type": "code",
   "execution_count": 86,
   "id": "c2aa2eab-8e34-4d10-8d3c-0fdfda1e8b86",
   "metadata": {},
   "outputs": [
    {
     "data": {
      "text/plain": [
       "<AxesSubplot:ylabel='Frequency'>"
      ]
     },
     "execution_count": 86,
     "metadata": {},
     "output_type": "execute_result"
    },
    {
     "data": {
      "image/png": "[encoded data removed]",
      "text/plain": [
       "<Figure size 432x288 with 1 Axes>"
      ]
     },
     "metadata": {
      "needs_background": "light"
     },
     "output_type": "display_data"
    }
   ],
   "source": [
    "da[da['Gender']=='Female']['BMXHT'].plot.hist(bins = 30)"
   ]
  },
  {
   "cell_type": "markdown",
   "id": "a0dfabdb-efe7-4381-b949-7daf00bd829c",
   "metadata": {},
   "source": [
    "### Height Distribution by Gender using Boxplot"
   ]
  },
  {
   "cell_type": "code",
   "execution_count": 258,
   "id": "cb435da1-e795-4748-95a3-e08266aec468",
   "metadata": {},
   "outputs": [
    {
     "data": {
      "text/plain": [
       "<AxesSubplot:title={'center':'BMXHT'}, xlabel='Gender'>"
      ]
     },
     "execution_count": 258,
     "metadata": {},
     "output_type": "execute_result"
    },
    {
     "data": {
      "image/png": "[encoded data removed]",
      "text/plain": [
       "<Figure size 864x432 with 1 Axes>"
      ]
     },
     "metadata": {
      "needs_background": "light"
     },
     "output_type": "display_data"
    }
   ],
   "source": [
    "da.boxplot(column = ['BMXHT'], by ='Gender', figsize =(12,6))"
   ]
  },
  {
   "cell_type": "code",
   "execution_count": null,
   "id": "1693eab5-6811-43d2-9fef-902f9715803f",
   "metadata": {},
   "outputs": [],
   "source": []
  },
  {
   "cell_type": "code",
   "execution_count": 225,
   "id": "6e30f529-628d-4322-b168-053229e421f6",
   "metadata": {},
   "outputs": [],
   "source": [
    "da['difference'] = da['BPXSY1'] - da['BPXSY2']"
   ]
  },
  {
   "cell_type": "markdown",
   "id": "349bd6bb-801e-4ade-9721-046346b1d5a5",
   "metadata": {},
   "source": [
    "### Difference observed in first and Second Systolic Blood Pressure"
   ]
  },
  {
   "cell_type": "code",
   "execution_count": 226,
   "id": "d603da1b-5d9e-4205-a6b2-dca492a118cf",
   "metadata": {},
   "outputs": [
    {
     "data": {
      "text/plain": [
       "<AxesSubplot:>"
      ]
     },
     "execution_count": 226,
     "metadata": {},
     "output_type": "execute_result"
    },
    {
     "data": {
      "image/png": "[encoded data removed]",
      "text/plain": [
       "<Figure size 864x432 with 1 Axes>"
      ]
     },
     "metadata": {
      "needs_background": "light"
     },
     "output_type": "display_data"
    }
   ],
   "source": [
    "da.boxplot(column = ['difference'], figsize =(12,6))"
   ]
  },
  {
   "cell_type": "markdown",
   "id": "6e0feda8-9848-4f6e-9f46-09a6d6fe62e4",
   "metadata": {},
   "source": [
    "### Boxplot showing the distribution of difference of Blood Pressure measured in the two observations"
   ]
  },
  {
   "cell_type": "code",
   "execution_count": null,
   "id": "a180b7d1-0664-4783-8a7c-58bb647f350f",
   "metadata": {},
   "outputs": [],
   "source": []
  },
  {
   "cell_type": "markdown",
   "id": "3ba34210-03f7-4a9f-8742-7b8c1f2b5671",
   "metadata": {},
   "source": [
    "### The percentage of People who recorded higher Blood Pressure in the second observation as compared to the first"
   ]
  },
  {
   "cell_type": "code",
   "execution_count": 259,
   "id": "adb047cd-48ec-49e7-9cc1-5234ad680d30",
   "metadata": {},
   "outputs": [
    {
     "data": {
      "text/plain": [
       "34.12380122057541"
      ]
     },
     "execution_count": 259,
     "metadata": {},
     "output_type": "execute_result"
    }
   ],
   "source": [
    "((da['BPXSY2'] > da['BPXSY1']).value_counts()[1].sum()/(da['BPXSY2'] > da['BPXSY1']).count())*100\n"
   ]
  },
  {
   "cell_type": "markdown",
   "id": "d5dbcda0-0296-420b-b94f-bf3def0d4cc7",
   "metadata": {
    "tags": []
   },
   "source": [
    "### Side by side histogram of first and second observation of Systolic Blood Pressure"
   ]
  },
  {
   "cell_type": "code",
   "execution_count": 168,
   "id": "f2cf43cc-a298-4d8d-a3a6-fef1df6b1998",
   "metadata": {},
   "outputs": [
    {
     "data": {
      "image/png": "[encoded data removed]",
      "text/plain": [
       "<Figure size 1728x864 with 1 Axes>"
      ]
     },
     "metadata": {
      "needs_background": "light"
     },
     "output_type": "display_data"
    }
   ],
   "source": [
    "plt.figure(figsize=(24,12))\n",
    "plt.hist([da['BPXSY1'], da['BPXSY2']], bins = 20, label=['first', 'second'], color = ['b','g'])\n",
    "plt.legend(loc='upper right')\n",
    "\n",
    "\n",
    "plt.show()"
   ]
  },
  {
   "cell_type": "code",
   "execution_count": 113,
   "id": "95676ec9-4652-4353-b142-2a8f69b784e7",
   "metadata": {},
   "outputs": [
    {
     "data": {
      "text/plain": [
       "<AxesSubplot:>"
      ]
     },
     "execution_count": 113,
     "metadata": {},
     "output_type": "execute_result"
    },
    {
     "data": {
      "image/png": "[encoded data removed]",
      "text/plain": [
       "<Figure size 1728x864 with 1 Axes>"
      ]
     },
     "metadata": {
      "needs_background": "light"
     },
     "output_type": "display_data"
    }
   ],
   "source": [
    "da.boxplot(column = ['BPXSY1','BPXSY2'],  figsize =(24,12))\n"
   ]
  },
  {
   "cell_type": "markdown",
   "id": "a933f243-d283-4781-bc23-725d3ad0c8f7",
   "metadata": {},
   "source": [
    "### A side by side Boxplot showing the distribution of Blood Pressure readings in the first and second measurements"
   ]
  },
  {
   "cell_type": "code",
   "execution_count": null,
   "id": "1c641d55-1c23-41ee-8f87-6627da1a47a3",
   "metadata": {},
   "outputs": [],
   "source": []
  },
  {
   "cell_type": "markdown",
   "id": "6ca5619a-6888-41ca-b995-3fde5689dfaa",
   "metadata": {},
   "source": [
    "### Viewing the Education backround of the population as a percentage"
   ]
  },
  {
   "cell_type": "code",
   "execution_count": 260,
   "id": "22887a7c-6c9b-4ead-93fa-ce3fe2191831",
   "metadata": {},
   "outputs": [
    {
     "data": {
      "text/plain": [
       "Some college/AA    28.265039\n",
       "College            23.818657\n",
       "HS/GED             20.680035\n",
       "<9                 11.421099\n",
       "9-11               11.211857\n",
       "Missing             4.551003\n",
       "Don't know          0.052310\n",
       "Name: Education, dtype: float64"
      ]
     },
     "execution_count": 260,
     "metadata": {},
     "output_type": "execute_result"
    }
   ],
   "source": [
    "da[\"Education\"] = da.DMDEDUC2.replace({1: \"<9\", 2: \"9-11\", 3: \"HS/GED\", 4: \"Some college/AA\", 5: \"College\", \n",
    "                                       7: \"Refused\", 9: \"Don't know\"})\n",
    "da[\"Education\"] = da[\"Education\"].fillna('Missing')\n",
    "da.Education.value_counts(normalize = True)*100"
   ]
  },
  {
   "cell_type": "code",
   "execution_count": null,
   "id": "18ecd800-dc7d-4e01-a8b3-2c37d8a7bac0",
   "metadata": {},
   "outputs": [],
   "source": []
  },
  {
   "cell_type": "markdown",
   "id": "6a32b703-ac96-4c5b-91c6-52510f6da880",
   "metadata": {},
   "source": [
    "### Next the median Household population in terms of Education Backround was calculated. Also, we restricted our population to ages between 30 and 40 years old"
   ]
  },
  {
   "cell_type": "code",
   "execution_count": 122,
   "id": "e5a8dd14-77f5-44b0-a79d-72e53ffff6ee",
   "metadata": {},
   "outputs": [
    {
     "data": {
      "text/plain": [
       "Education\n",
       "9-11               5.0\n",
       "<9                 5.0\n",
       "College            3.0\n",
       "HS/GED             4.0\n",
       "Some college/AA    4.0\n",
       "Name: DMDHHSIZ, dtype: float64"
      ]
     },
     "execution_count": 122,
     "metadata": {},
     "output_type": "execute_result"
    }
   ],
   "source": [
    "da[(da['RIDAGEYR']<=40) & (da['RIDAGEYR']>=30)].groupby('Education')['DMDHHSIZ'].median()"
   ]
  },
  {
   "cell_type": "code",
   "execution_count": null,
   "id": "77aeda9d-129e-40a5-8cbd-9cc74625d00e",
   "metadata": {},
   "outputs": [],
   "source": []
  },
  {
   "cell_type": "markdown",
   "id": "052f1020-bf2c-4f8b-a7d2-c04725874226",
   "metadata": {},
   "source": [
    "### The participants can be clustered into \"maked variance units\" (MVU) based on every combination of the variables SDMVSTRA(Masked variance unit pseudo-stratum variable for variance estimation) and SDMVPSU(Masked variance unit pseudo-PSU variable for variance estimation)."
   ]
  },
  {
   "cell_type": "markdown",
   "id": "bd27785c-a4e3-47c5-9791-58ca4c686eb1",
   "metadata": {},
   "source": [
    "### Using these clusters, we calculate the mean Height for Males for every cluster"
   ]
  },
  {
   "cell_type": "code",
   "execution_count": 261,
   "id": "70598d1f-7c6d-4685-bebd-03389875e364",
   "metadata": {},
   "outputs": [
    {
     "data": {
      "text/plain": [
       "SDMVSTRA  SDMVPSU\n",
       "119       1          172.741667\n",
       "          2          172.906818\n",
       "120       1          169.537755\n",
       "          2          173.075342\n",
       "121       1          172.177885\n",
       "Name: BMXHT, dtype: float64"
      ]
     },
     "execution_count": 261,
     "metadata": {},
     "output_type": "execute_result"
    }
   ],
   "source": [
    "MH = da[da['Gender'] == 'Male'].groupby(['SDMVSTRA','SDMVPSU'])['BMXHT'].mean()\n",
    "MH.head()"
   ]
  },
  {
   "cell_type": "markdown",
   "id": "d5d387a8-f769-484a-ac4e-ae4ece6c54cd",
   "metadata": {},
   "source": [
    "### Next, the ratio of largest and smallest observed mean in the dataset"
   ]
  },
  {
   "cell_type": "code",
   "execution_count": 215,
   "id": "714f9f1c-d654-40b4-bba7-000b50c85376",
   "metadata": {},
   "outputs": [
    {
     "data": {
      "text/plain": [
       "1.0451744119496282"
      ]
     },
     "execution_count": 215,
     "metadata": {},
     "output_type": "execute_result"
    }
   ],
   "source": [
    "MH.max()/MH.min()"
   ]
  },
  {
   "cell_type": "markdown",
   "id": "80b575bb-50a7-4bf6-8e05-32e198614818",
   "metadata": {},
   "source": [
    "### Repeating the calculation to find mean height for Females"
   ]
  },
  {
   "cell_type": "code",
   "execution_count": 262,
   "id": "d21536aa-6acd-47a4-9097-1d0be24ed598",
   "metadata": {},
   "outputs": [
    {
     "data": {
      "text/plain": [
       "SDMVSTRA  SDMVPSU\n",
       "119       1          159.570408\n",
       "          2          159.244578\n",
       "120       1          155.402041\n",
       "          2          159.218056\n",
       "121       1          158.871579\n",
       "Name: BMXHT, dtype: float64"
      ]
     },
     "execution_count": 262,
     "metadata": {},
     "output_type": "execute_result"
    }
   ],
   "source": [
    "FH = da[da['Gender'] == 'Female'].groupby(['SDMVSTRA','SDMVPSU'])['BMXHT'].mean()\n",
    "FH.head()"
   ]
  },
  {
   "cell_type": "code",
   "execution_count": 217,
   "id": "87c9d9a2-75dc-4071-bfe2-b8390c6a9001",
   "metadata": {},
   "outputs": [
    {
     "data": {
      "text/plain": [
       "1.047949694040641"
      ]
     },
     "execution_count": 217,
     "metadata": {},
     "output_type": "execute_result"
    }
   ],
   "source": [
    "FH.max()/FH.min()"
   ]
  },
  {
   "cell_type": "markdown",
   "id": "045b6205-d601-4a28-82e8-18f0761a8340",
   "metadata": {},
   "source": [
    "### Mean age for Females"
   ]
  },
  {
   "cell_type": "code",
   "execution_count": 263,
   "id": "baea967b-4812-458a-a5ee-5f3daaae98b2",
   "metadata": {},
   "outputs": [
    {
     "data": {
      "text/plain": [
       "SDMVSTRA  SDMVPSU\n",
       "119       1          47.663265\n",
       "          2          52.987952\n",
       "120       1          43.636364\n",
       "          2          43.736111\n",
       "121       1          44.397959\n",
       "Name: RIDAGEYR, dtype: float64"
      ]
     },
     "execution_count": 263,
     "metadata": {},
     "output_type": "execute_result"
    }
   ],
   "source": [
    "FA= da[da['Gender'] == 'Female'].groupby(['SDMVSTRA','SDMVPSU'])['RIDAGEYR'].mean()\n",
    "FA.head()\n"
   ]
  },
  {
   "cell_type": "code",
   "execution_count": 219,
   "id": "e9d7f802-3c6d-4931-b2ab-6d436f5576d8",
   "metadata": {},
   "outputs": [
    {
     "data": {
      "text/plain": [
       "1.3078580577111432"
      ]
     },
     "execution_count": 219,
     "metadata": {},
     "output_type": "execute_result"
    }
   ],
   "source": [
    "FA.max()/FA.min()"
   ]
  },
  {
   "cell_type": "markdown",
   "id": "403c7d1a-a3e4-4772-8b8b-49d2781893dc",
   "metadata": {},
   "source": [
    "### Mean age for Males"
   ]
  },
  {
   "cell_type": "code",
   "execution_count": 264,
   "id": "23a8c830-cbec-4e16-8eaf-3c1fdc6f86f2",
   "metadata": {},
   "outputs": [
    {
     "data": {
      "text/plain": [
       "SDMVSTRA  SDMVPSU\n",
       "119       1          47.861111\n",
       "          2          54.363636\n",
       "120       1          43.130000\n",
       "          2          45.219178\n",
       "121       1          46.750000\n",
       "Name: RIDAGEYR, dtype: float64"
      ]
     },
     "execution_count": 264,
     "metadata": {},
     "output_type": "execute_result"
    }
   ],
   "source": [
    "MA = da[da['Gender'] == 'Male'].groupby(['SDMVSTRA','SDMVPSU'])['RIDAGEYR'].mean()\n",
    "MA.head()"
   ]
  },
  {
   "cell_type": "code",
   "execution_count": 221,
   "id": "9e93ff94-d575-4fd4-a686-ae2e12e842c4",
   "metadata": {},
   "outputs": [
    {
     "data": {
      "text/plain": [
       "1.3114871069416525"
      ]
     },
     "execution_count": 221,
     "metadata": {},
     "output_type": "execute_result"
    }
   ],
   "source": [
    "MA.max()/MA.min()"
   ]
  },
  {
   "cell_type": "markdown",
   "id": "abcffb14-19ed-4a67-93a9-4019fdedb5fe",
   "metadata": {},
   "source": [
    "### Mean BMI for Females"
   ]
  },
  {
   "cell_type": "code",
   "execution_count": 265,
   "id": "491b33fe-e039-4cc7-877d-630f2c579149",
   "metadata": {},
   "outputs": [
    {
     "data": {
      "text/plain": [
       "SDMVSTRA  SDMVPSU\n",
       "119       1          30.052041\n",
       "          2          27.849398\n",
       "120       1          32.419388\n",
       "          2          27.400000\n",
       "121       1          30.856842\n",
       "Name: BMXBMI, dtype: float64"
      ]
     },
     "execution_count": 265,
     "metadata": {},
     "output_type": "execute_result"
    }
   ],
   "source": [
    "FB = da[da['Gender'] == 'Female'].groupby(['SDMVSTRA','SDMVPSU'])['BMXBMI'].mean()\n",
    "FB.head()"
   ]
  },
  {
   "cell_type": "code",
   "execution_count": 223,
   "id": "69b3b689-8eca-44cc-b849-f0a63c877a18",
   "metadata": {},
   "outputs": [
    {
     "data": {
      "text/plain": [
       "1.2460491548963397"
      ]
     },
     "execution_count": 223,
     "metadata": {},
     "output_type": "execute_result"
    }
   ],
   "source": [
    "FB.max()/FB.min()"
   ]
  },
  {
   "cell_type": "markdown",
   "id": "281deda4-8ca3-4210-9392-a1d4177d8ce1",
   "metadata": {},
   "source": [
    "### Mean BMI for Males"
   ]
  },
  {
   "cell_type": "code",
   "execution_count": 267,
   "id": "c8f124db-619a-49e1-9319-44c890d8c1dd",
   "metadata": {},
   "outputs": [
    {
     "data": {
      "text/plain": [
       "SDMVSTRA  SDMVPSU\n",
       "119       1          26.958333\n",
       "          2          27.160465\n",
       "120       1          30.939175\n",
       "          2          27.727397\n",
       "121       1          29.416505\n",
       "Name: BMXBMI, dtype: float64"
      ]
     },
     "execution_count": 267,
     "metadata": {},
     "output_type": "execute_result"
    }
   ],
   "source": [
    "MB = da[da['Gender'] == 'Male'].groupby(['SDMVSTRA','SDMVPSU'])['BMXBMI'].mean()\n",
    "MB.head()"
   ]
  },
  {
   "cell_type": "code",
   "execution_count": 268,
   "id": "2c019148-79ab-4aa5-8c74-7886c8c5f7eb",
   "metadata": {},
   "outputs": [
    {
     "data": {
      "text/plain": [
       "1.2332369443245577"
      ]
     },
     "execution_count": 268,
     "metadata": {},
     "output_type": "execute_result"
    }
   ],
   "source": [
    "MB.max()/MB.min()"
   ]
  },
  {
   "cell_type": "markdown",
   "id": "8850209e-a90d-41fc-84ef-99d35518dd17",
   "metadata": {},
   "source": [
    "### Now we calculate the Inter-quartile Range of BMI, Height, Age based on Gender in the clusters constructed previously. Also, we will be calculating the ratios of the largest value observed and the smallest"
   ]
  },
  {
   "cell_type": "markdown",
   "id": "ecc73066-6ebc-4a76-a756-d032485eb446",
   "metadata": {},
   "source": [
    "### IQR BMI for Males"
   ]
  },
  {
   "cell_type": "code",
   "execution_count": 269,
   "id": "1e7dd8c2-f378-4a2e-b97c-fbcf5df99ab0",
   "metadata": {},
   "outputs": [
    {
     "data": {
      "text/plain": [
       "SDMVSTRA  SDMVPSU\n",
       "119       1          5.35\n",
       "          2          5.30\n",
       "120       1          9.40\n",
       "          2          7.10\n",
       "121       1          7.50\n",
       "Name: BMXBMI, dtype: float64"
      ]
     },
     "execution_count": 269,
     "metadata": {},
     "output_type": "execute_result"
    }
   ],
   "source": [
    "IQR1 = (da[da['Gender'] == 'Male'].groupby(['SDMVSTRA','SDMVPSU'])['BMXBMI'].quantile(0.75) -da[da['Gender'] == 'Male'].groupby(['SDMVSTRA','SDMVPSU'])['BMXBMI'].quantile(0.25))\n",
    "IQR1.head()\n"
   ]
  },
  {
   "cell_type": "code",
   "execution_count": 235,
   "id": "49e669bd-ac16-4f28-ad8d-7c16799d1230",
   "metadata": {},
   "outputs": [
    {
     "data": {
      "text/plain": [
       "2.341463414634145"
      ]
     },
     "execution_count": 235,
     "metadata": {},
     "output_type": "execute_result"
    }
   ],
   "source": [
    "IQR1.max()/IQR1.min()"
   ]
  },
  {
   "cell_type": "markdown",
   "id": "7c9bc8fa-c78f-474f-b92e-3838ff6643f5",
   "metadata": {},
   "source": [
    "### IQR BMI for Females"
   ]
  },
  {
   "cell_type": "code",
   "execution_count": 270,
   "id": "69217afe-a049-4982-bb0d-4f37aa54aa37",
   "metadata": {},
   "outputs": [
    {
     "data": {
      "text/plain": [
       "SDMVSTRA  SDMVPSU\n",
       "119       1          9.750\n",
       "          2          9.350\n",
       "120       1          8.775\n",
       "          2          7.750\n",
       "121       1          9.000\n",
       "Name: BMXBMI, dtype: float64"
      ]
     },
     "execution_count": 270,
     "metadata": {},
     "output_type": "execute_result"
    }
   ],
   "source": [
    "IQR2 = da[da['Gender'] == 'Female'].groupby(['SDMVSTRA','SDMVPSU'])['BMXBMI'].quantile(0.75) -da[da['Gender'] == 'Female'].groupby(['SDMVSTRA','SDMVPSU'])['BMXBMI'].quantile(0.25)\n",
    "IQR2.head()"
   ]
  },
  {
   "cell_type": "code",
   "execution_count": 200,
   "id": "0e2d03a4-5b65-4093-9cfc-e8a8236e1440",
   "metadata": {},
   "outputs": [
    {
     "data": {
      "text/plain": [
       "1.5161290322580645"
      ]
     },
     "execution_count": 200,
     "metadata": {},
     "output_type": "execute_result"
    }
   ],
   "source": [
    "IQR2.max()/IQR2.min()"
   ]
  },
  {
   "cell_type": "markdown",
   "id": "54b0b684-8d3d-44b1-9188-0045179ccda0",
   "metadata": {},
   "source": [
    "### IQR Height for Males"
   ]
  },
  {
   "cell_type": "code",
   "execution_count": 271,
   "id": "32fcfe58-2aa1-4242-b234-4b7a4737b03a",
   "metadata": {},
   "outputs": [
    {
     "data": {
      "text/plain": [
       "SDMVSTRA  SDMVPSU\n",
       "119       1           9.000\n",
       "          2          11.225\n",
       "120       1          12.125\n",
       "          2          10.500\n",
       "121       1          10.725\n",
       "Name: BMXHT, dtype: float64"
      ]
     },
     "execution_count": 271,
     "metadata": {},
     "output_type": "execute_result"
    }
   ],
   "source": [
    "IQR3 = da[da['Gender'] == 'Male'].groupby(['SDMVSTRA','SDMVPSU'])['BMXHT'].quantile(0.75) -da[da['Gender'] == 'Male'].groupby(['SDMVSTRA','SDMVPSU'])['BMXHT'].quantile(0.25)\n",
    "IQR3.head()"
   ]
  },
  {
   "cell_type": "code",
   "execution_count": 202,
   "id": "1cf1bd30-a195-42fd-99bd-d0b05c1f12b4",
   "metadata": {},
   "outputs": [
    {
     "data": {
      "text/plain": [
       "1.5870967741935498"
      ]
     },
     "execution_count": 202,
     "metadata": {},
     "output_type": "execute_result"
    }
   ],
   "source": [
    "IQR3.max()/IQR3.min()"
   ]
  },
  {
   "cell_type": "markdown",
   "id": "c0ba552a-92b1-4a01-a15f-c02bced48295",
   "metadata": {},
   "source": [
    "### IQR Height for Females"
   ]
  },
  {
   "cell_type": "code",
   "execution_count": 272,
   "id": "28973ede-f537-4bbe-8e74-3b0d46bed3f2",
   "metadata": {},
   "outputs": [
    {
     "data": {
      "text/plain": [
       "SDMVSTRA  SDMVPSU\n",
       "119       1           9.325\n",
       "          2           9.950\n",
       "120       1           8.750\n",
       "          2          10.550\n",
       "121       1           9.150\n",
       "Name: BMXHT, dtype: float64"
      ]
     },
     "execution_count": 272,
     "metadata": {},
     "output_type": "execute_result"
    }
   ],
   "source": [
    "IQR4 = da[da['Gender'] == 'Female'].groupby(['SDMVSTRA','SDMVPSU'])['BMXHT'].quantile(0.75) -da[da['Gender'] == 'Female'].groupby(['SDMVSTRA','SDMVPSU'])['BMXHT'].quantile(0.25)\n",
    "IQR4.head()"
   ]
  },
  {
   "cell_type": "code",
   "execution_count": 205,
   "id": "ce186338-6c74-4c18-ad50-12296e5d8361",
   "metadata": {},
   "outputs": [
    {
     "data": {
      "text/plain": [
       "1.5874587458745906"
      ]
     },
     "execution_count": 205,
     "metadata": {},
     "output_type": "execute_result"
    }
   ],
   "source": [
    "IQR4.max()/IQR4.min()"
   ]
  },
  {
   "cell_type": "markdown",
   "id": "4336596d-361f-464c-8df5-8c846806ea71",
   "metadata": {},
   "source": [
    "### IQR Age for Males"
   ]
  },
  {
   "cell_type": "code",
   "execution_count": 273,
   "id": "48d2114b-f1ce-49ca-80b6-9b7a1fd1ae50",
   "metadata": {},
   "outputs": [
    {
     "data": {
      "text/plain": [
       "SDMVSTRA  SDMVPSU\n",
       "119       1          29.75\n",
       "          2          29.00\n",
       "120       1          23.75\n",
       "          2          26.00\n",
       "121       1          34.50\n",
       "Name: RIDAGEYR, dtype: float64"
      ]
     },
     "execution_count": 273,
     "metadata": {},
     "output_type": "execute_result"
    }
   ],
   "source": [
    "IQR5 = da[da['Gender'] == 'Male'].groupby(['SDMVSTRA','SDMVPSU'])['RIDAGEYR'].quantile(0.75) -da[da['Gender'] == 'Male'].groupby(['SDMVSTRA','SDMVPSU'])['RIDAGEYR'].quantile(0.25)\n",
    "IQR5.head()"
   ]
  },
  {
   "cell_type": "code",
   "execution_count": 213,
   "id": "3c6e78fe-ec58-4087-8680-f43adab4024e",
   "metadata": {},
   "outputs": [
    {
     "data": {
      "text/plain": [
       "1.8313253012048192"
      ]
     },
     "execution_count": 213,
     "metadata": {},
     "output_type": "execute_result"
    }
   ],
   "source": [
    "IQR5.max()/IQR5.min()"
   ]
  },
  {
   "cell_type": "markdown",
   "id": "85eb3f9f-2bfc-4653-92e8-d129baa1efbf",
   "metadata": {},
   "source": [
    "### IQR Age for Females"
   ]
  },
  {
   "cell_type": "code",
   "execution_count": 274,
   "id": "746b3f5a-d8b0-462a-a5ca-2414e7c3811a",
   "metadata": {},
   "outputs": [
    {
     "data": {
      "text/plain": [
       "SDMVSTRA  SDMVPSU\n",
       "119       1          31.25\n",
       "          2          33.50\n",
       "120       1          26.50\n",
       "          2          25.75\n",
       "121       1          26.25\n",
       "Name: RIDAGEYR, dtype: float64"
      ]
     },
     "execution_count": 274,
     "metadata": {},
     "output_type": "execute_result"
    }
   ],
   "source": [
    "IQR6 = da[da['Gender'] == 'Female'].groupby(['SDMVSTRA','SDMVPSU'])['RIDAGEYR'].quantile(0.75) - da[da['Gender'] == 'Female'].groupby(['SDMVSTRA','SDMVPSU'])['RIDAGEYR'].quantile(0.25)\n",
    "IQR6.head()"
   ]
  },
  {
   "cell_type": "code",
   "execution_count": 211,
   "id": "557df3dc-27c7-4275-a141-29368ad697c8",
   "metadata": {},
   "outputs": [
    {
     "data": {
      "text/plain": [
       "1.625"
      ]
     },
     "execution_count": 211,
     "metadata": {},
     "output_type": "execute_result"
    }
   ],
   "source": [
    "IQR6.max()/IQR6.min()"
   ]
  },
  {
   "cell_type": "code",
   "execution_count": null,
   "id": "ad834005-0c39-4429-a79f-5216d022f95c",
   "metadata": {},
   "outputs": [],
   "source": []
  }
 ],
 "metadata": {
  "kernelspec": {
   "display_name": "Python 3 (ipykernel)",
   "language": "python",
   "name": "python3"
  },
  "language_info": {
   "codemirror_mode": {
    "name": "ipython",
    "version": 3
   },
   "file_extension": ".py",
   "mimetype": "text/x-python",
   "name": "python",
   "nbconvert_exporter": "python",
   "pygments_lexer": "ipython3",
   "version": "3.7.5"
  }
 },
 "nbformat": 4,
 "nbformat_minor": 5
}
